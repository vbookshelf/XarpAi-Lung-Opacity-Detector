{
 "cells": [
  {
   "cell_type": "code",
   "execution_count": 1,
   "id": "fe93178f",
   "metadata": {
    "execution": {
     "iopub.execute_input": "2023-04-01T08:42:36.543342Z",
     "iopub.status.busy": "2023-04-01T08:42:36.542852Z",
     "iopub.status.idle": "2023-04-01T08:42:36.548570Z",
     "shell.execute_reply": "2023-04-01T08:42:36.547673Z"
    },
    "papermill": {
     "duration": 0.019232,
     "end_time": "2023-04-01T08:42:36.550679",
     "exception": false,
     "start_time": "2023-04-01T08:42:36.531447",
     "status": "completed"
    },
    "tags": []
   },
   "outputs": [],
   "source": [
    "###### "
   ]
  },
  {
   "cell_type": "code",
   "execution_count": 2,
   "id": "0254b4b0",
   "metadata": {
    "execution": {
     "iopub.execute_input": "2023-04-01T08:42:36.568947Z",
     "iopub.status.busy": "2023-04-01T08:42:36.568196Z",
     "iopub.status.idle": "2023-04-01T08:42:36.572856Z",
     "shell.execute_reply": "2023-04-01T08:42:36.572039Z"
    },
    "papermill": {
     "duration": 0.01562,
     "end_time": "2023-04-01T08:42:36.574765",
     "exception": false,
     "start_time": "2023-04-01T08:42:36.559145",
     "status": "completed"
    },
    "tags": []
   },
   "outputs": [],
   "source": [
    "# Ref:\n",
    "\n",
    "# Blog post\n",
    "# Part1: Mask-RCNN\n",
    "# https://haochen23.github.io/2020/06/fine-tune-mask-rcnn-pytorch.html#.Y-2Wt-xBzUK\n",
    "\n",
    "# Part 2: Faster-RCNN Beagle Detector\n",
    "# https://haochen23.github.io/2020/06/fine-tune-faster-rcnn-pytorch.html#.Y-8k_OxBzUK\n",
    "\n",
    "# Video by DigitalSreeni\n",
    "# https://www.youtube.com/watch?v=NEl9RPyMgzY&t=28s\n",
    "\n",
    "# TORCHVISION OBJECT DETECTION FINETUNING TUTORIAL\n",
    "# https://pytorch.org/tutorials/intermediate/torchvision_tutorial.html\n",
    "\n",
    "# Beagle Detector: Fine-tune Faster-RCNN\n",
    "# https://haochen23.github.io/2020/06/fine-tune-faster-rcnn-pytorch.html#.Y-2VjexBzUI"
   ]
  },
  {
   "cell_type": "code",
   "execution_count": 3,
   "id": "25e328cc",
   "metadata": {
    "execution": {
     "iopub.execute_input": "2023-04-01T08:42:36.592502Z",
     "iopub.status.busy": "2023-04-01T08:42:36.591773Z",
     "iopub.status.idle": "2023-04-01T08:42:38.880592Z",
     "shell.execute_reply": "2023-04-01T08:42:38.879551Z"
    },
    "papermill": {
     "duration": 2.300983,
     "end_time": "2023-04-01T08:42:38.883861",
     "exception": false,
     "start_time": "2023-04-01T08:42:36.582878",
     "status": "completed"
    },
    "tags": []
   },
   "outputs": [
    {
     "name": "stdout",
     "output_type": "stream",
     "text": [
      "1.12.0\n",
      "0.13.0\n"
     ]
    }
   ],
   "source": [
    "import pandas as pd\n",
    "import numpy as np\n",
    "import os\n",
    "\n",
    "import cv2\n",
    "\n",
    "import ast\n",
    "\n",
    "import torch\n",
    "import torchvision.transforms as T\n",
    "import torchvision\n",
    "\n",
    "from torch.utils.data import Dataset, DataLoader\n",
    "from torchvision import transforms, utils\n",
    "\n",
    "import torch.utils.data\n",
    "from PIL import Image\n",
    "\n",
    "from tqdm import tqdm\n",
    "\n",
    "import matplotlib.pyplot as plt\n",
    "\n",
    "# Don't Show Warning Messages\n",
    "import warnings\n",
    "warnings.filterwarnings('ignore')\n",
    "\n",
    "# Note: Pytorch uses a channels-first format:\n",
    "# [batch_size, num_channels, height, width]\n",
    "\n",
    "print(torch.__version__)\n",
    "print(torchvision.__version__)"
   ]
  },
  {
   "cell_type": "code",
   "execution_count": 4,
   "id": "b4dfb808",
   "metadata": {
    "execution": {
     "iopub.execute_input": "2023-04-01T08:42:38.904193Z",
     "iopub.status.busy": "2023-04-01T08:42:38.902593Z",
     "iopub.status.idle": "2023-04-01T08:42:38.911804Z",
     "shell.execute_reply": "2023-04-01T08:42:38.910938Z"
    },
    "papermill": {
     "duration": 0.020618,
     "end_time": "2023-04-01T08:42:38.913786",
     "exception": false,
     "start_time": "2023-04-01T08:42:38.893168",
     "status": "completed"
    },
    "tags": []
   },
   "outputs": [],
   "source": [
    "# Set the seed values\n",
    "\n",
    "import random\n",
    "\n",
    "# Set the seed value all over the place to make this reproducible.\n",
    "seed_val = 101\n",
    "\n",
    "os.environ['PYTHONHASHSEED'] = str(seed_val)\n",
    "random.seed(seed_val)\n",
    "np.random.seed(seed_val)\n",
    "torch.manual_seed(seed_val)\n",
    "torch.cuda.manual_seed_all(seed_val)\n",
    "torch.backends.cudnn.deterministic = True"
   ]
  },
  {
   "cell_type": "code",
   "execution_count": 5,
   "id": "1015a56f",
   "metadata": {
    "execution": {
     "iopub.execute_input": "2023-04-01T08:42:38.931729Z",
     "iopub.status.busy": "2023-04-01T08:42:38.930947Z",
     "iopub.status.idle": "2023-04-01T08:42:38.935192Z",
     "shell.execute_reply": "2023-04-01T08:42:38.934247Z"
    },
    "papermill": {
     "duration": 0.015196,
     "end_time": "2023-04-01T08:42:38.937140",
     "exception": false,
     "start_time": "2023-04-01T08:42:38.921944",
     "status": "completed"
    },
    "tags": []
   },
   "outputs": [],
   "source": [
    "data_path = '../input/exp77-tb-add-lung-boxes-to-detection-folds/df_data_w_lung_boxes.csv'\n",
    "\n",
    "model_path_0 = '../input/exp103-tb-exp96-w-aug/model.pt'\n"
   ]
  },
  {
   "cell_type": "code",
   "execution_count": 6,
   "id": "39b4d499",
   "metadata": {
    "execution": {
     "iopub.execute_input": "2023-04-01T08:42:38.955835Z",
     "iopub.status.busy": "2023-04-01T08:42:38.954342Z",
     "iopub.status.idle": "2023-04-01T08:42:38.962685Z",
     "shell.execute_reply": "2023-04-01T08:42:38.961777Z"
    },
    "papermill": {
     "duration": 0.019401,
     "end_time": "2023-04-01T08:42:38.964694",
     "exception": false,
     "start_time": "2023-04-01T08:42:38.945293",
     "status": "completed"
    },
    "tags": []
   },
   "outputs": [
    {
     "data": {
      "text/plain": [
       "['vindr-comp-proc-images',\n",
       " 'pneumonia-comp-proc-images',\n",
       " 'covid-comp-proc-images',\n",
       " 'exp77-tb-add-lung-boxes-to-detection-folds',\n",
       " 'tbx11k-simplified',\n",
       " 'exp103-tb-exp96-w-aug']"
      ]
     },
     "execution_count": 6,
     "metadata": {},
     "output_type": "execute_result"
    }
   ],
   "source": [
    "os.listdir('../input/')"
   ]
  },
  {
   "cell_type": "markdown",
   "id": "c4594678",
   "metadata": {
    "papermill": {
     "duration": 0.008261,
     "end_time": "2023-04-01T08:42:38.981172",
     "exception": false,
     "start_time": "2023-04-01T08:42:38.972911",
     "status": "completed"
    },
    "tags": []
   },
   "source": [
    "## Config"
   ]
  },
  {
   "cell_type": "code",
   "execution_count": 7,
   "id": "cc0bc12d",
   "metadata": {
    "execution": {
     "iopub.execute_input": "2023-04-01T08:42:38.998821Z",
     "iopub.status.busy": "2023-04-01T08:42:38.998561Z",
     "iopub.status.idle": "2023-04-01T08:42:39.005267Z",
     "shell.execute_reply": "2023-04-01T08:42:39.004281Z"
    },
    "papermill": {
     "duration": 0.017857,
     "end_time": "2023-04-01T08:42:39.007304",
     "exception": false,
     "start_time": "2023-04-01T08:42:38.989447",
     "status": "completed"
    },
    "tags": []
   },
   "outputs": [
    {
     "data": {
      "text/plain": [
       "2"
      ]
     },
     "execution_count": 7,
     "metadata": {},
     "output_type": "execute_result"
    }
   ],
   "source": [
    "CLASS_LIST = CLASS_NAMES = ['normal','opacity']\n",
    "\n",
    "CHOSEN_FOLD = 0\n",
    "\n",
    "THRESHOLD = 0.5\n",
    "\n",
    "#NUM_FOLDS = 5\n",
    "\n",
    "NUM_EPOCHS = 10\n",
    "\n",
    "TRAIN_BATCH_SIZE = 5\n",
    "VAL_BATCH_SIZE = 1\n",
    "\n",
    "\n",
    "NUM_CORES = os.cpu_count()\n",
    "NUM_CORES"
   ]
  },
  {
   "cell_type": "markdown",
   "id": "5aa6b8f0",
   "metadata": {
    "papermill": {
     "duration": 0.008258,
     "end_time": "2023-04-01T08:42:39.023846",
     "exception": false,
     "start_time": "2023-04-01T08:42:39.015588",
     "status": "completed"
    },
    "tags": []
   },
   "source": [
    "## Define the device"
   ]
  },
  {
   "cell_type": "code",
   "execution_count": 8,
   "id": "6a7ae59b",
   "metadata": {
    "execution": {
     "iopub.execute_input": "2023-04-01T08:42:39.041589Z",
     "iopub.status.busy": "2023-04-01T08:42:39.041306Z",
     "iopub.status.idle": "2023-04-01T08:42:39.065188Z",
     "shell.execute_reply": "2023-04-01T08:42:39.064374Z"
    },
    "papermill": {
     "duration": 0.037821,
     "end_time": "2023-04-01T08:42:39.069933",
     "exception": false,
     "start_time": "2023-04-01T08:42:39.032112",
     "status": "completed"
    },
    "tags": []
   },
   "outputs": [
    {
     "name": "stdout",
     "output_type": "stream",
     "text": [
      "cuda:0\n",
      "Num GPUs: 1\n",
      "GPU Type: Tesla P100-PCIE-16GB\n"
     ]
    }
   ],
   "source": [
    "# For GPU\n",
    "\n",
    "device = torch.device(\"cuda:0\" if torch.cuda.is_available() else \"cpu\")\n",
    "\n",
    "print(device)\n",
    "\n",
    "if torch.cuda.is_available():\n",
    "    print('Num GPUs:', torch.cuda.device_count())\n",
    "    print('GPU Type:', torch.cuda.get_device_name(0))"
   ]
  },
  {
   "cell_type": "markdown",
   "id": "46120056",
   "metadata": {
    "papermill": {
     "duration": 0.013558,
     "end_time": "2023-04-01T08:42:39.094262",
     "exception": false,
     "start_time": "2023-04-01T08:42:39.080704",
     "status": "completed"
    },
    "tags": []
   },
   "source": [
    "## Load the data"
   ]
  },
  {
   "cell_type": "code",
   "execution_count": 9,
   "id": "49b77faa",
   "metadata": {
    "execution": {
     "iopub.execute_input": "2023-04-01T08:42:39.133236Z",
     "iopub.status.busy": "2023-04-01T08:42:39.132829Z",
     "iopub.status.idle": "2023-04-01T08:42:39.517310Z",
     "shell.execute_reply": "2023-04-01T08:42:39.516332Z"
    },
    "papermill": {
     "duration": 0.404238,
     "end_time": "2023-04-01T08:42:39.519918",
     "exception": false,
     "start_time": "2023-04-01T08:42:39.115680",
     "status": "completed"
    },
    "tags": []
   },
   "outputs": [
    {
     "name": "stdout",
     "output_type": "stream",
     "text": [
      "(60109, 9)\n"
     ]
    },
    {
     "data": {
      "text/html": [
       "<div>\n",
       "<style scoped>\n",
       "    .dataframe tbody tr th:only-of-type {\n",
       "        vertical-align: middle;\n",
       "    }\n",
       "\n",
       "    .dataframe tbody tr th {\n",
       "        vertical-align: top;\n",
       "    }\n",
       "\n",
       "    .dataframe thead th {\n",
       "        text-align: right;\n",
       "    }\n",
       "</style>\n",
       "<table border=\"1\" class=\"dataframe\">\n",
       "  <thead>\n",
       "    <tr style=\"text-align: right;\">\n",
       "      <th></th>\n",
       "      <th>fname</th>\n",
       "      <th>image_height</th>\n",
       "      <th>image_width</th>\n",
       "      <th>bbox</th>\n",
       "      <th>target</th>\n",
       "      <th>data_source</th>\n",
       "      <th>label</th>\n",
       "      <th>path</th>\n",
       "      <th>fold</th>\n",
       "    </tr>\n",
       "  </thead>\n",
       "  <tbody>\n",
       "    <tr>\n",
       "      <th>0</th>\n",
       "      <td>00436515-870c-4b36-a041-de91049b9ab4.png</td>\n",
       "      <td>1024</td>\n",
       "      <td>1024</td>\n",
       "      <td>{'xmin': 264, 'ymin': 152, 'width': 213, 'heig...</td>\n",
       "      <td>1</td>\n",
       "      <td>pneu_comp</td>\n",
       "      <td>Lung Opacity</td>\n",
       "      <td>../input/pneumonia-comp-proc-images/base_dir/p...</td>\n",
       "      <td>3.0</td>\n",
       "    </tr>\n",
       "    <tr>\n",
       "      <th>1</th>\n",
       "      <td>00436515-870c-4b36-a041-de91049b9ab4.png</td>\n",
       "      <td>1024</td>\n",
       "      <td>1024</td>\n",
       "      <td>{'xmin': 562, 'ymin': 152, 'width': 256, 'heig...</td>\n",
       "      <td>1</td>\n",
       "      <td>pneu_comp</td>\n",
       "      <td>Lung Opacity</td>\n",
       "      <td>../input/pneumonia-comp-proc-images/base_dir/p...</td>\n",
       "      <td>3.0</td>\n",
       "    </tr>\n",
       "  </tbody>\n",
       "</table>\n",
       "</div>"
      ],
      "text/plain": [
       "                                      fname  image_height  image_width  \\\n",
       "0  00436515-870c-4b36-a041-de91049b9ab4.png          1024         1024   \n",
       "1  00436515-870c-4b36-a041-de91049b9ab4.png          1024         1024   \n",
       "\n",
       "                                                bbox  target data_source  \\\n",
       "0  {'xmin': 264, 'ymin': 152, 'width': 213, 'heig...       1   pneu_comp   \n",
       "1  {'xmin': 562, 'ymin': 152, 'width': 256, 'heig...       1   pneu_comp   \n",
       "\n",
       "          label                                               path  fold  \n",
       "0  Lung Opacity  ../input/pneumonia-comp-proc-images/base_dir/p...   3.0  \n",
       "1  Lung Opacity  ../input/pneumonia-comp-proc-images/base_dir/p...   3.0  "
      ]
     },
     "execution_count": 9,
     "metadata": {},
     "output_type": "execute_result"
    }
   ],
   "source": [
    "df_data = pd.read_csv(data_path)\n",
    "\n",
    "print(df_data.shape)\n",
    "\n",
    "df_data.head(2)"
   ]
  },
  {
   "cell_type": "code",
   "execution_count": 10,
   "id": "6d02b16e",
   "metadata": {
    "execution": {
     "iopub.execute_input": "2023-04-01T08:42:39.557119Z",
     "iopub.status.busy": "2023-04-01T08:42:39.556813Z",
     "iopub.status.idle": "2023-04-01T08:42:39.574153Z",
     "shell.execute_reply": "2023-04-01T08:42:39.572805Z"
    },
    "papermill": {
     "duration": 0.044769,
     "end_time": "2023-04-01T08:42:39.578631",
     "exception": false,
     "start_time": "2023-04-01T08:42:39.533862",
     "status": "completed"
    },
    "tags": []
   },
   "outputs": [
    {
     "data": {
      "text/plain": [
       "3    25869\n",
       "1    19724\n",
       "0    14516\n",
       "Name: target, dtype: int64"
      ]
     },
     "execution_count": 10,
     "metadata": {},
     "output_type": "execute_result"
    }
   ],
   "source": [
    "df_data['target'].value_counts()"
   ]
  },
  {
   "cell_type": "markdown",
   "id": "c1b908c4",
   "metadata": {
    "papermill": {
     "duration": 0.008714,
     "end_time": "2023-04-01T08:42:39.596109",
     "exception": false,
     "start_time": "2023-04-01T08:42:39.587395",
     "status": "completed"
    },
    "tags": []
   },
   "source": [
    "## Remove the vindr_pcxr data"
   ]
  },
  {
   "cell_type": "code",
   "execution_count": 11,
   "id": "13f2e863",
   "metadata": {
    "execution": {
     "iopub.execute_input": "2023-04-01T08:42:39.615144Z",
     "iopub.status.busy": "2023-04-01T08:42:39.614844Z",
     "iopub.status.idle": "2023-04-01T08:42:39.624405Z",
     "shell.execute_reply": "2023-04-01T08:42:39.623460Z"
    },
    "papermill": {
     "duration": 0.021345,
     "end_time": "2023-04-01T08:42:39.626428",
     "exception": false,
     "start_time": "2023-04-01T08:42:39.605083",
     "status": "completed"
    },
    "tags": []
   },
   "outputs": [
    {
     "data": {
      "text/plain": [
       "pneu_comp     33265\n",
       "covid_comp    12198\n",
       "vindr_comp     6665\n",
       "tbx11k         5010\n",
       "vindr_pcxr     2971\n",
       "Name: data_source, dtype: int64"
      ]
     },
     "execution_count": 11,
     "metadata": {},
     "output_type": "execute_result"
    }
   ],
   "source": [
    "df_data['data_source'].value_counts()"
   ]
  },
  {
   "cell_type": "code",
   "execution_count": 12,
   "id": "71f920c4",
   "metadata": {
    "execution": {
     "iopub.execute_input": "2023-04-01T08:42:39.646087Z",
     "iopub.status.busy": "2023-04-01T08:42:39.645268Z",
     "iopub.status.idle": "2023-04-01T08:42:39.673624Z",
     "shell.execute_reply": "2023-04-01T08:42:39.672575Z"
    },
    "papermill": {
     "duration": 0.040244,
     "end_time": "2023-04-01T08:42:39.675632",
     "exception": false,
     "start_time": "2023-04-01T08:42:39.635388",
     "status": "completed"
    },
    "tags": []
   },
   "outputs": [
    {
     "data": {
      "text/plain": [
       "pneu_comp     33265\n",
       "covid_comp    12198\n",
       "vindr_comp     6665\n",
       "tbx11k         5010\n",
       "Name: data_source, dtype: int64"
      ]
     },
     "execution_count": 12,
     "metadata": {},
     "output_type": "execute_result"
    }
   ],
   "source": [
    "df_data = df_data[df_data['data_source'] != 'vindr_pcxr']\n",
    "\n",
    "df_data = df_data.reset_index(drop=True)\n",
    "\n",
    "df_data['data_source'].value_counts()"
   ]
  },
  {
   "cell_type": "code",
   "execution_count": null,
   "id": "e3683bf2",
   "metadata": {
    "papermill": {
     "duration": 0.008821,
     "end_time": "2023-04-01T08:42:39.693724",
     "exception": false,
     "start_time": "2023-04-01T08:42:39.684903",
     "status": "completed"
    },
    "tags": []
   },
   "outputs": [],
   "source": []
  },
  {
   "cell_type": "markdown",
   "id": "81db2b60",
   "metadata": {
    "papermill": {
     "duration": 0.008742,
     "end_time": "2023-04-01T08:42:39.711564",
     "exception": false,
     "start_time": "2023-04-01T08:42:39.702822",
     "status": "completed"
    },
    "tags": []
   },
   "source": [
    "## Load one image"
   ]
  },
  {
   "cell_type": "code",
   "execution_count": 13,
   "id": "0ca1f148",
   "metadata": {
    "execution": {
     "iopub.execute_input": "2023-04-01T08:42:39.732310Z",
     "iopub.status.busy": "2023-04-01T08:42:39.730746Z",
     "iopub.status.idle": "2023-04-01T08:42:40.136413Z",
     "shell.execute_reply": "2023-04-01T08:42:40.135584Z"
    },
    "papermill": {
     "duration": 0.420202,
     "end_time": "2023-04-01T08:42:40.140678",
     "exception": false,
     "start_time": "2023-04-01T08:42:39.720476",
     "status": "completed"
    },
    "tags": []
   },
   "outputs": [
    {
     "name": "stdout",
     "output_type": "stream",
     "text": [
      "(1024, 1024)\n"
     ]
    },
    {
     "data": {
      "text/plain": [
       "<matplotlib.image.AxesImage at 0x7f56474dad90>"
      ]
     },
     "execution_count": 13,
     "metadata": {},
     "output_type": "execute_result"
    },
    {
     "data": {
      "image/png": "[encoded data removed]",
      "text/plain": [
       "<Figure size 640x480 with 1 Axes>"
      ]
     },
     "metadata": {},
     "output_type": "display_data"
    }
   ],
   "source": [
    "i = 0\n",
    "path = df_data.loc[i, 'path']\n",
    "image = plt.imread(path)\n",
    "\n",
    "print(image.shape)\n",
    "\n",
    "plt.imshow(image)"
   ]
  },
  {
   "cell_type": "markdown",
   "id": "df6ac712",
   "metadata": {
    "papermill": {
     "duration": 0.011243,
     "end_time": "2023-04-01T08:42:40.163528",
     "exception": false,
     "start_time": "2023-04-01T08:42:40.152285",
     "status": "completed"
    },
    "tags": []
   },
   "source": [
    "## Helper functions"
   ]
  },
  {
   "cell_type": "code",
   "execution_count": 14,
   "id": "9eab6127",
   "metadata": {
    "execution": {
     "iopub.execute_input": "2023-04-01T08:42:40.186579Z",
     "iopub.status.busy": "2023-04-01T08:42:40.186255Z",
     "iopub.status.idle": "2023-04-01T08:42:40.195602Z",
     "shell.execute_reply": "2023-04-01T08:42:40.194649Z"
    },
    "papermill": {
     "duration": 0.023129,
     "end_time": "2023-04-01T08:42:40.197458",
     "exception": false,
     "start_time": "2023-04-01T08:42:40.174329",
     "status": "completed"
    },
    "tags": []
   },
   "outputs": [],
   "source": [
    "# Confusion matrix where the size of the plot and the text size can be changed\n",
    "\n",
    "# Source: Scikit Learn website\n",
    "# http://scikit-learn.org/stable/auto_examples/\n",
    "# model_selection/plot_confusion_matrix.html#sphx-glr-auto-examples-model-\n",
    "# selection-plot-confusion-matrix-py\n",
    "\n",
    "\n",
    "def plot_confusion_matrix(cm, classes,\n",
    "                          normalize=False,\n",
    "                          title='Confusion matrix',\n",
    "                          cmap=plt.cm.Blues,\n",
    "                         text_size=12):\n",
    "    \"\"\"\n",
    "    This function prints and plots the confusion matrix.\n",
    "    Normalization can be applied by setting `normalize=True`.\n",
    "    \"\"\"\n",
    "    if normalize:\n",
    "        cm = cm.astype('float') / cm.sum(axis=1)[:, np.newaxis]\n",
    "        print(\"Normalized confusion matrix\")\n",
    "    else:\n",
    "        print('Confusion matrix, without normalization')\n",
    "\n",
    "    print(cm)\n",
    "\n",
    "    plt.imshow(cm, interpolation='nearest', cmap=cmap)\n",
    "    plt.title(title)\n",
    "    plt.colorbar()\n",
    "    tick_marks = np.arange(len(classes))\n",
    "    plt.xticks(tick_marks, classes, rotation=45, fontsize=text_size)\n",
    "    plt.yticks(tick_marks, classes, fontsize=text_size)\n",
    "\n",
    "    fmt = '.2f' if normalize else 'd'\n",
    "    thresh = cm.max() / 2.\n",
    "    for i, j in itertools.product(range(cm.shape[0]), range(cm.shape[1])):\n",
    "        plt.text(j, i, format(cm[i, j], fmt),\n",
    "                 horizontalalignment=\"center\",\n",
    "                 color=\"white\" if cm[i, j] > thresh else \"black\", fontsize=text_size)\n",
    "\n",
    "    plt.ylabel('True label', fontsize=text_size)\n",
    "    plt.xlabel('Predicted label', fontsize=text_size)\n",
    "    plt.tight_layout()"
   ]
  },
  {
   "cell_type": "code",
   "execution_count": 15,
   "id": "691e8622",
   "metadata": {
    "execution": {
     "iopub.execute_input": "2023-04-01T08:42:40.221780Z",
     "iopub.status.busy": "2023-04-01T08:42:40.220342Z",
     "iopub.status.idle": "2023-04-01T08:42:40.227356Z",
     "shell.execute_reply": "2023-04-01T08:42:40.226493Z"
    },
    "papermill": {
     "duration": 0.021016,
     "end_time": "2023-04-01T08:42:40.229338",
     "exception": false,
     "start_time": "2023-04-01T08:42:40.208322",
     "status": "completed"
    },
    "tags": []
   },
   "outputs": [],
   "source": [
    "def display_images(df):\n",
    "    \n",
    "    \"\"\"\n",
    "    Display jpg images in a grid.\n",
    "    \"\"\"\n",
    "    \n",
    "    plt.style.use(\"default\")\n",
    "    plt.figure(figsize=(13,12))\n",
    "\n",
    "    rows = 5\n",
    "    cols = 6\n",
    "\n",
    "    for i in range(rows*cols):\n",
    "\n",
    "        path = df.loc[i, 'path']\n",
    "        label = df.loc[i, 'label']\n",
    "        \n",
    "        image = plt.imread(path)\n",
    "\n",
    "        ax = plt.subplot(rows, cols, i+1)\n",
    "        plt.imshow(image)\n",
    "        plt.title(label, color=\"black\", fontsize=12)\n",
    "        plt.axis(\"off\")\n",
    "    \n",
    "    plt.tight_layout()\n",
    "    plt.show()"
   ]
  },
  {
   "cell_type": "code",
   "execution_count": 16,
   "id": "17674b88",
   "metadata": {
    "execution": {
     "iopub.execute_input": "2023-04-01T08:42:40.252643Z",
     "iopub.status.busy": "2023-04-01T08:42:40.251870Z",
     "iopub.status.idle": "2023-04-01T08:42:40.258458Z",
     "shell.execute_reply": "2023-04-01T08:42:40.257661Z"
    },
    "papermill": {
     "duration": 0.020234,
     "end_time": "2023-04-01T08:42:40.260405",
     "exception": false,
     "start_time": "2023-04-01T08:42:40.240171",
     "status": "completed"
    },
    "tags": []
   },
   "outputs": [],
   "source": [
    "def display_images_from_batch(images):\n",
    "    \n",
    "    \"\"\"\n",
    "    Display torch tensor images from the dataloader.\n",
    "    \"\"\"\n",
    "    \n",
    "    #images = data['images']\n",
    "    #targets = data['targets']\n",
    "    \n",
    "    plt.style.use(\"default\")\n",
    "    plt.figure(figsize=(13,12))\n",
    "\n",
    "    rows = 1\n",
    "    cols = 3\n",
    "\n",
    "    for i in range(rows*cols):\n",
    "\n",
    "        image = images[i]\n",
    "        #label = targets[i]\n",
    "\n",
    "        # convert from (C, H, W) to (H, W, C) format\n",
    "        image = image.permute((1, 2, 0))\n",
    "\n",
    "        # select the first channel only\n",
    "        image = image[:, :, 0]\n",
    "\n",
    "        ax = plt.subplot(rows, cols, i+1)\n",
    "        plt.imshow(image)\n",
    "        #plt.title(label, color=\"black\", fontsize=12)\n",
    "        plt.axis(\"off\")\n",
    "    \n",
    "    plt.tight_layout()\n",
    "    plt.show()"
   ]
  },
  {
   "cell_type": "code",
   "execution_count": 17,
   "id": "287bd75c",
   "metadata": {
    "execution": {
     "iopub.execute_input": "2023-04-01T08:42:40.283754Z",
     "iopub.status.busy": "2023-04-01T08:42:40.283140Z",
     "iopub.status.idle": "2023-04-01T08:42:40.288928Z",
     "shell.execute_reply": "2023-04-01T08:42:40.288033Z"
    },
    "papermill": {
     "duration": 0.019521,
     "end_time": "2023-04-01T08:42:40.290869",
     "exception": false,
     "start_time": "2023-04-01T08:42:40.271348",
     "status": "completed"
    },
    "tags": []
   },
   "outputs": [],
   "source": [
    "def draw_pred_bbox_on_image(image, coords_list):\n",
    "    \n",
    "    \"\"\"\n",
    "    Input:\n",
    "    image: type numpy array\n",
    "    coords_list: type list with format: [xmin, ymin, xmax, ymax]\n",
    "    \n",
    "    Output:\n",
    "    image: The bbox is drawn on it.\n",
    "    \n",
    "    \"\"\"\n",
    "\n",
    "    xmin = int(coords_list[0])\n",
    "    ymin = int(coords_list[1])\n",
    "    xmax = int(coords_list[2])\n",
    "    ymax = int(coords_list[3])\n",
    "\n",
    "     # Draw the bbox on the image\n",
    "    start_point = (xmin, ymin) \n",
    "    end_point = (xmax, ymax) \n",
    "    #bbox_color = (255, 255, 0)  # yellow\n",
    "    bbox_color = (255, 0, 255)\n",
    "    bbox_thickness = 10\n",
    "\n",
    "    image = cv2.rectangle(image, start_point, end_point, \n",
    "                          bbox_color, bbox_thickness)\n",
    "    \n",
    "    return image"
   ]
  },
  {
   "cell_type": "code",
   "execution_count": 18,
   "id": "d071dbd2",
   "metadata": {
    "execution": {
     "iopub.execute_input": "2023-04-01T08:42:40.314377Z",
     "iopub.status.busy": "2023-04-01T08:42:40.313490Z",
     "iopub.status.idle": "2023-04-01T08:42:40.320522Z",
     "shell.execute_reply": "2023-04-01T08:42:40.319710Z"
    },
    "papermill": {
     "duration": 0.020735,
     "end_time": "2023-04-01T08:42:40.322543",
     "exception": false,
     "start_time": "2023-04-01T08:42:40.301808",
     "status": "completed"
    },
    "tags": []
   },
   "outputs": [],
   "source": [
    "# Draw a bbox on an image\n",
    "\n",
    "def draw_true_bbox_on_image(image, coords_dict):\n",
    "    \n",
    "    if coords_dict != 'none':\n",
    "\n",
    "        coords_dict = ast.literal_eval(coords_dict)\n",
    "\n",
    "        xmin = int(coords_dict['xmin'])\n",
    "        ymin = int(coords_dict['ymin'])\n",
    "        width = int(coords_dict['width'])\n",
    "        height = int(coords_dict['height'])\n",
    "\n",
    "        xmax = xmin + width\n",
    "        ymax = ymin + height\n",
    "\n",
    "         # Draw the bbox on the image\n",
    "        start_point = (xmin, ymin) \n",
    "        end_point = (xmax, ymax) \n",
    "        bbox_color = (255, 255, 255)  # white\n",
    "        bbox_thickness = 10\n",
    "\n",
    "        image = cv2.rectangle(image, start_point, end_point, \n",
    "                              bbox_color, bbox_thickness)\n",
    "    \n",
    "    return image"
   ]
  },
  {
   "cell_type": "code",
   "execution_count": 19,
   "id": "4d23e2e6",
   "metadata": {
    "execution": {
     "iopub.execute_input": "2023-04-01T08:42:40.345743Z",
     "iopub.status.busy": "2023-04-01T08:42:40.345003Z",
     "iopub.status.idle": "2023-04-01T08:42:40.353467Z",
     "shell.execute_reply": "2023-04-01T08:42:40.352686Z"
    },
    "papermill": {
     "duration": 0.022058,
     "end_time": "2023-04-01T08:42:40.355402",
     "exception": false,
     "start_time": "2023-04-01T08:42:40.333344",
     "status": "completed"
    },
    "tags": []
   },
   "outputs": [],
   "source": [
    "def draw_mask_on_image(image, bool_mask):\n",
    "    \n",
    "    # Define a function that outputs a mask with a random colour\n",
    "    def get_coloured_mask(mask):\n",
    "    \n",
    "        \"\"\"\n",
    "        Source: https://haochen23.github.io/2020/06/fine-tune-mask-rcnn-pytorch.html#.Y-3RVOxBzUL\n",
    "\n",
    "        random_colour_masks\n",
    "\n",
    "        \"\"\"\n",
    "\n",
    "        colours = [[0, 255, 0],[0, 0, 255],[255, 0, 0],[0, 255, 255],[255, 255, 0],[255, 0, 255],[80, 70, 180],[250, 80, 190],[245, 145, 50],[70, 150, 250],[50, 190, 190]]\n",
    "        r = np.zeros_like(mask).astype(np.uint8)\n",
    "        g = np.zeros_like(mask).astype(np.uint8)\n",
    "        b = np.zeros_like(mask).astype(np.uint8)\n",
    "\n",
    "        r[mask == 1], g[mask == 1], b[mask == 1] = colours[random.randrange(0,10)]\n",
    "\n",
    "        coloured_mask = np.stack([r, g, b], axis=2)\n",
    "\n",
    "        return coloured_mask\n",
    "\n",
    "\n",
    "    rgb_mask = get_coloured_mask(bool_mask)\n",
    "    image = cv2.addWeighted(image, 1, rgb_mask, 0.5, 0)\n",
    "    \n",
    "    return image"
   ]
  },
  {
   "cell_type": "code",
   "execution_count": 20,
   "id": "39ac5450",
   "metadata": {
    "execution": {
     "iopub.execute_input": "2023-04-01T08:42:40.378786Z",
     "iopub.status.busy": "2023-04-01T08:42:40.377953Z",
     "iopub.status.idle": "2023-04-01T08:42:40.385837Z",
     "shell.execute_reply": "2023-04-01T08:42:40.385025Z"
    },
    "papermill": {
     "duration": 0.021494,
     "end_time": "2023-04-01T08:42:40.387704",
     "exception": false,
     "start_time": "2023-04-01T08:42:40.366210",
     "status": "completed"
    },
    "tags": []
   },
   "outputs": [],
   "source": [
    "def process_fasterrcnn_preds(pred, conf_threshold):\n",
    "    \n",
    "    # Get the pred scores\n",
    "    pred_scores_list = list(pred[0]['scores'].detach().cpu().numpy())\n",
    "    \n",
    "    # Get the pred labels\n",
    "    pred_labels_list = list(pred[0]['labels'].detach().cpu().numpy())\n",
    "    \n",
    "    # Get the pred bounding boxes, format is [[xmin, ymin, xmax, ymax], [xmin, ymin, xmax, ymax]]\n",
    "    pred_boxes = pred[0]['boxes'].detach().cpu().numpy()\n",
    "    pred_boxes_list = [list(item) for item in pred_boxes]\n",
    "    \n",
    "    fin_scores_list = []\n",
    "    fin_labels_list = []\n",
    "    fin_boxes_list = []\n",
    "    \n",
    "    if len(pred_scores_list) != 0:\n",
    "        \n",
    "        for i, item in enumerate(pred_scores_list):\n",
    "            \n",
    "            if item > conf_threshold:\n",
    "                \n",
    "                fin_scores_list.append(item)\n",
    "                fin_labels_list.append(pred_labels_list[i])\n",
    "                fin_boxes_list.append(pred_boxes_list[i])\n",
    "                \n",
    "    \n",
    "    pred_dict = {\n",
    "       'pred_scores': fin_scores_list,\n",
    "        'pred_labels': fin_labels_list,\n",
    "        'pred_boxes': fin_boxes_list\n",
    "    }\n",
    "    \n",
    "    # Empty lists will be returned if the model did\n",
    "    # not detect any bboxes\n",
    "    return pred_dict"
   ]
  },
  {
   "cell_type": "code",
   "execution_count": 21,
   "id": "c8c7bcc7",
   "metadata": {
    "execution": {
     "iopub.execute_input": "2023-04-01T08:42:40.410943Z",
     "iopub.status.busy": "2023-04-01T08:42:40.410324Z",
     "iopub.status.idle": "2023-04-01T08:42:40.419840Z",
     "shell.execute_reply": "2023-04-01T08:42:40.419041Z"
    },
    "papermill": {
     "duration": 0.023289,
     "end_time": "2023-04-01T08:42:40.421738",
     "exception": false,
     "start_time": "2023-04-01T08:42:40.398449",
     "status": "completed"
    },
    "tags": []
   },
   "outputs": [],
   "source": [
    "# How to pad an image to a sqaure\n",
    "# We pad the right and the bottom so that if there are bbox coords\n",
    "# then they won't be affected by the padding. That's because the origin for\n",
    "# the coords is in the top left corner.\n",
    "\n",
    "def pad_image_to_square(image):\n",
    "    \n",
    "    \"\"\"\n",
    "    Pads an image to a square. \n",
    "    Accepts bot grayscale and multi channel images.\n",
    "    \"\"\"\n",
    "    \n",
    "    # Get the image shape\n",
    "    shape_tuple = image.shape\n",
    "    \n",
    "    height = image.shape[0]\n",
    "    width = image.shape[1]\n",
    "    \n",
    "    \n",
    "    # Function to pad each channel of an image to a square\n",
    "    # Also pads a grayscale image to a square.\n",
    "    def pad_image_channel(image_channel, height, width):\n",
    "\n",
    "        pad_amt = abs(height - width)\n",
    "\n",
    "        if height == width:\n",
    "            pad_channel = image_channel\n",
    "\n",
    "        elif height > width: # pad right\n",
    "            top = 0\n",
    "            bottom = 0\n",
    "            left = 0\n",
    "            right = pad_amt\n",
    "\n",
    "            pad_channel = np.pad(image_channel, pad_width=[(top, bottom),(left, right)], mode='constant')\n",
    "\n",
    "        else: # if width > height then pad bottom\n",
    "\n",
    "            top = 0\n",
    "            bottom = pad_amt\n",
    "            left = 0\n",
    "            right = 0\n",
    "\n",
    "            pad_channel = np.pad(image_channel, pad_width=[(top, bottom),(left, right)], mode='constant')\n",
    "\n",
    "        return pad_channel\n",
    "\n",
    "    \n",
    "    # If image is grayscale i.e. shape (height, width)\n",
    "    if len(shape_tuple) == 2:\n",
    "        \n",
    "        # pad the image\n",
    "        padded_image =  pad_image_channel(image, height, width)\n",
    "    \n",
    "    # If the image is not grayscale i.e. shape (height, width, num_channels)\n",
    "    elif len(shape_tuple) == 3:\n",
    "        \n",
    "        # get the number of channels\n",
    "        num_channels = image.shape[2]\n",
    "        \n",
    "        for j in range(0, num_channels):\n",
    "            \n",
    "            # select the channel\n",
    "            image_channel = image[:,:,j]\n",
    "            \n",
    "            # pad the channels\n",
    "            padded_channel =  pad_image_channel(image_channel, height, width)\n",
    "            \n",
    "            if j == 0:\n",
    "                padded_image = padded_channel\n",
    "                \n",
    "            else:\n",
    "                # Stack the channels along the channel axis\n",
    "                padded_image = np.dstack((padded_image, padded_channel))\n",
    "                \n",
    "                \n",
    "    return padded_image"
   ]
  },
  {
   "cell_type": "code",
   "execution_count": null,
   "id": "95e3d15c",
   "metadata": {
    "papermill": {
     "duration": 0.010683,
     "end_time": "2023-04-01T08:42:40.443413",
     "exception": false,
     "start_time": "2023-04-01T08:42:40.432730",
     "status": "completed"
    },
    "tags": []
   },
   "outputs": [],
   "source": []
  },
  {
   "cell_type": "markdown",
   "id": "9c9cc265",
   "metadata": {
    "papermill": {
     "duration": 0.010863,
     "end_time": "2023-04-01T08:42:40.465401",
     "exception": false,
     "start_time": "2023-04-01T08:42:40.454538",
     "status": "completed"
    },
    "tags": []
   },
   "source": [
    "## Create the val set"
   ]
  },
  {
   "cell_type": "code",
   "execution_count": 22,
   "id": "fb064d42",
   "metadata": {
    "execution": {
     "iopub.execute_input": "2023-04-01T08:42:40.488692Z",
     "iopub.status.busy": "2023-04-01T08:42:40.487926Z",
     "iopub.status.idle": "2023-04-01T08:42:40.503569Z",
     "shell.execute_reply": "2023-04-01T08:42:40.502469Z"
    },
    "papermill": {
     "duration": 0.02992,
     "end_time": "2023-04-01T08:42:40.506116",
     "exception": false,
     "start_time": "2023-04-01T08:42:40.476196",
     "status": "completed"
    },
    "tags": []
   },
   "outputs": [
    {
     "name": "stdout",
     "output_type": "stream",
     "text": [
      "Train\n",
      "45699\n",
      "3    19611\n",
      "1    15259\n",
      "0    10829\n",
      "Name: target, dtype: int64\n",
      "\n",
      "Val\n",
      "11439\n",
      "3    4888\n",
      "1    3864\n",
      "0    2687\n",
      "Name: target, dtype: int64\n"
     ]
    }
   ],
   "source": [
    "# Use the train and val sets that were defined by the dataset creators\n",
    "\n",
    "fold_index = CHOSEN_FOLD\n",
    "\n",
    "df_train = df_data[df_data['fold'] != fold_index]\n",
    "df_val = df_data[df_data['fold'] == fold_index]\n",
    "\n",
    "print('Train')\n",
    "print(len(df_train))\n",
    "print(df_train['target'].value_counts())\n",
    "print('')\n",
    "print('Val')\n",
    "print(len(df_val))\n",
    "print(df_val['target'].value_counts())"
   ]
  },
  {
   "cell_type": "markdown",
   "id": "8d9b1882",
   "metadata": {
    "papermill": {
     "duration": 0.010877,
     "end_time": "2023-04-01T08:42:40.528702",
     "exception": false,
     "start_time": "2023-04-01T08:42:40.517825",
     "status": "completed"
    },
    "tags": []
   },
   "source": [
    "## Inference\n",
    "\n",
    "This setup is for inference for just one image as would be done when using an app."
   ]
  },
  {
   "cell_type": "code",
   "execution_count": 23,
   "id": "c0d2d8ed",
   "metadata": {
    "execution": {
     "iopub.execute_input": "2023-04-01T08:42:40.552231Z",
     "iopub.status.busy": "2023-04-01T08:42:40.551953Z",
     "iopub.status.idle": "2023-04-01T08:42:40.556953Z",
     "shell.execute_reply": "2023-04-01T08:42:40.556092Z"
    },
    "papermill": {
     "duration": 0.019104,
     "end_time": "2023-04-01T08:42:40.558870",
     "exception": false,
     "start_time": "2023-04-01T08:42:40.539766",
     "status": "completed"
    },
    "tags": []
   },
   "outputs": [],
   "source": [
    "# Reset the index\n",
    "\n",
    "df_val = df_val.reset_index(drop=True)"
   ]
  },
  {
   "cell_type": "code",
   "execution_count": 24,
   "id": "e2ef3c46",
   "metadata": {
    "execution": {
     "iopub.execute_input": "2023-04-01T08:42:40.582734Z",
     "iopub.status.busy": "2023-04-01T08:42:40.582445Z",
     "iopub.status.idle": "2023-04-01T08:42:49.894424Z",
     "shell.execute_reply": "2023-04-01T08:42:49.893407Z"
    },
    "papermill": {
     "duration": 9.326659,
     "end_time": "2023-04-01T08:42:49.896627",
     "exception": false,
     "start_time": "2023-04-01T08:42:40.569968",
     "status": "completed"
    },
    "tags": []
   },
   "outputs": [
    {
     "name": "stdout",
     "output_type": "stream",
     "text": [
      "{'pred_scores': [0.9999553, 0.89496076, 0.876065, 0.7214038, 0.5968956, 0.5030688], 'pred_labels': [3, 1, 1, 1, 2, 1], 'pred_boxes': [[238.61418, 199.35606, 905.3676, 766.1299], [296.89764, 601.284, 491.0932, 712.5218], [679.14935, 540.65466, 871.7447, 725.5572], [289.2963, 477.9366, 500.4151, 697.2338], [20.593397, 1.1417968, 1024.0, 1024.0], [268.3424, 609.76294, 522.31274, 794.853]]}\n",
      "00704310-78a8-4b38-8475-49f4573b2dbb.png\n",
      "Target: 1\n"
     ]
    },
    {
     "data": {
      "image/png": "[encoded data removed]",
      "text/plain": [
       "<Figure size 640x480 with 1 Axes>"
      ]
     },
     "metadata": {},
     "output_type": "display_data"
    }
   ],
   "source": [
    "# Example code: Predict on one image\n",
    "\n",
    "# Code when not using the et_prediction() function.\n",
    "\n",
    "index = 0\n",
    "\n",
    "# Define the device\n",
    "device = torch.device('cuda') if torch.cuda.is_available() else torch.device('cpu')\n",
    "\n",
    "# Load the image\n",
    "path = df_val.loc[index, 'path']\n",
    "target = df_val.loc[index, 'target']\n",
    "#path = images_path + fname\n",
    "image = Image.open(path).convert(\"L\") #####\n",
    "\n",
    "\n",
    "# Pad the image to a square\n",
    "\n",
    "# Convert from PIL to numpy\n",
    "image = np.array(image)\n",
    "# Pad to square\n",
    "image = pad_image_to_square(image)\n",
    "# Convert back to a PIL image\n",
    "image = Image.fromarray(np.uint8(image))\n",
    "\n",
    "\n",
    "# Transform the image to a torch tensor.\n",
    "# Note that this 'transform' comes from torchvision.\n",
    "# It's not the same as the one used in the dataloader.\n",
    "# The imports above are important.\n",
    "my_transform = T.Compose([T.ToTensor()])\n",
    "image = my_transform(image)\n",
    "\n",
    "\n",
    "# Send the image to the device\n",
    "image = image.to(device)\n",
    "\n",
    "# Load the trained model\n",
    "path_model = model_path_0\n",
    "model = torch.load(path_model, map_location=torch.device('cpu'))\n",
    "\n",
    "# Put the model in eval model\n",
    "model.eval()\n",
    "\n",
    "# Send the model to the device\n",
    "model.to(device)\n",
    "\n",
    "# Predict on the image\n",
    "pred = model([image])\n",
    "\n",
    "pred_dict = process_fasterrcnn_preds(pred, THRESHOLD)\n",
    "\n",
    "print(pred_dict)\n",
    "\n",
    "\n",
    "# Load the image\n",
    "path = df_val.loc[index, 'path']\n",
    "fname = df_val.loc[index, 'fname']\n",
    "print(fname)\n",
    "image = cv2.imread(path)\n",
    "\n",
    "\n",
    "# Draw true bboxes on image\n",
    "# -------------------------\n",
    "\n",
    "\"\"\"\n",
    "# Get the true bboxes\n",
    "df_true = df_orig[df_orig['fname'] == fname]\n",
    "df_true = df_true.reset_index(drop=True)\n",
    "true_bbox_list = list(df_true['bbox'])\n",
    "\n",
    "# Draw the true bboxes on the image\n",
    "for bbox_coords in true_bbox_list:\n",
    "\n",
    "    image = draw_true_bbox_on_image(image, bbox_coords)\n",
    "    \n",
    "\"\"\"\n",
    "    \n",
    "    \n",
    "# Draw pred bboxes on the image\n",
    "# ------------------------------\n",
    "\n",
    "pred_boxes = pred_dict['pred_boxes']\n",
    "\n",
    "for i in range(0, len(pred_boxes)):\n",
    "    \n",
    "    bbox_coords = pred_boxes[i]\n",
    "\n",
    "    image = draw_pred_bbox_on_image(image, bbox_coords)\n",
    "    \n",
    "    \n",
    "\n",
    "print(f'Target: {target}')\n",
    "\n",
    "plt.imshow(image)\n",
    "plt.show()"
   ]
  },
  {
   "cell_type": "code",
   "execution_count": 25,
   "id": "c000d4db",
   "metadata": {
    "execution": {
     "iopub.execute_input": "2023-04-01T08:42:49.923725Z",
     "iopub.status.busy": "2023-04-01T08:42:49.922904Z",
     "iopub.status.idle": "2023-04-01T09:06:17.620410Z",
     "shell.execute_reply": "2023-04-01T09:06:17.619344Z"
    },
    "papermill": {
     "duration": 1407.715346,
     "end_time": "2023-04-01T09:06:17.624752",
     "exception": false,
     "start_time": "2023-04-01T08:42:49.909406",
     "status": "completed"
    },
    "tags": []
   },
   "outputs": [
    {
     "name": "stderr",
     "output_type": "stream",
     "text": [
      "100%|██████████| 4888/4888 [23:27<00:00,  3.47it/s]\n"
     ]
    },
    {
     "data": {
      "text/html": [
       "<div>\n",
       "<style scoped>\n",
       "    .dataframe tbody tr th:only-of-type {\n",
       "        vertical-align: middle;\n",
       "    }\n",
       "\n",
       "    .dataframe tbody tr th {\n",
       "        vertical-align: top;\n",
       "    }\n",
       "\n",
       "    .dataframe thead th {\n",
       "        text-align: right;\n",
       "    }\n",
       "</style>\n",
       "<table border=\"1\" class=\"dataframe\">\n",
       "  <thead>\n",
       "    <tr style=\"text-align: right;\">\n",
       "      <th></th>\n",
       "      <th>fname</th>\n",
       "      <th>image_height</th>\n",
       "      <th>image_width</th>\n",
       "      <th>bbox</th>\n",
       "      <th>target</th>\n",
       "      <th>data_source</th>\n",
       "      <th>label</th>\n",
       "      <th>path</th>\n",
       "      <th>fold</th>\n",
       "      <th>preds</th>\n",
       "    </tr>\n",
       "  </thead>\n",
       "  <tbody>\n",
       "    <tr>\n",
       "      <th>0</th>\n",
       "      <td>00704310-78a8-4b38-8475-49f4573b2dbb.png</td>\n",
       "      <td>1024</td>\n",
       "      <td>1024</td>\n",
       "      <td>{'xmin': 323, 'ymin': 577, 'width': 160, 'heig...</td>\n",
       "      <td>1</td>\n",
       "      <td>pneu_comp</td>\n",
       "      <td>Lung Opacity</td>\n",
       "      <td>../input/pneumonia-comp-proc-images/base_dir/p...</td>\n",
       "      <td>0.0</td>\n",
       "      <td>{'pred_scores': [0.9999553, 0.89496076, 0.8760...</td>\n",
       "    </tr>\n",
       "    <tr>\n",
       "      <th>1</th>\n",
       "      <td>010ccb9f-6d46-4380-af11-84f87397a1b8.png</td>\n",
       "      <td>1024</td>\n",
       "      <td>1024</td>\n",
       "      <td>{'xmin': 652, 'ymin': 437, 'width': 161, 'heig...</td>\n",
       "      <td>1</td>\n",
       "      <td>pneu_comp</td>\n",
       "      <td>Lung Opacity</td>\n",
       "      <td>../input/pneumonia-comp-proc-images/base_dir/p...</td>\n",
       "      <td>0.0</td>\n",
       "      <td>{'pred_scores': [0.99996495, 0.9460011, 0.8614...</td>\n",
       "    </tr>\n",
       "    <tr>\n",
       "      <th>2</th>\n",
       "      <td>012a5620-d082-4bb8-9b3b-e72d8938000c.png</td>\n",
       "      <td>1024</td>\n",
       "      <td>1024</td>\n",
       "      <td>{'xmin': 133, 'ymin': 613, 'width': 275, 'heig...</td>\n",
       "      <td>1</td>\n",
       "      <td>pneu_comp</td>\n",
       "      <td>Lung Opacity</td>\n",
       "      <td>../input/pneumonia-comp-proc-images/base_dir/p...</td>\n",
       "      <td>0.0</td>\n",
       "      <td>{'pred_scores': [0.99989974, 0.95544237, 0.896...</td>\n",
       "    </tr>\n",
       "    <tr>\n",
       "      <th>3</th>\n",
       "      <td>01a7353d-25bb-4ff8-916b-f50dd541dccf.png</td>\n",
       "      <td>1024</td>\n",
       "      <td>1024</td>\n",
       "      <td>{'xmin': 214, 'ymin': 582, 'width': 239, 'heig...</td>\n",
       "      <td>1</td>\n",
       "      <td>pneu_comp</td>\n",
       "      <td>Lung Opacity</td>\n",
       "      <td>../input/pneumonia-comp-proc-images/base_dir/p...</td>\n",
       "      <td>0.0</td>\n",
       "      <td>{'pred_scores': [0.99995875, 0.871344, 0.83093...</td>\n",
       "    </tr>\n",
       "    <tr>\n",
       "      <th>4</th>\n",
       "      <td>01cad8d0-45cd-4603-b099-94055d322310.png</td>\n",
       "      <td>1024</td>\n",
       "      <td>1024</td>\n",
       "      <td>{'xmin': 218, 'ymin': 667, 'width': 258, 'heig...</td>\n",
       "      <td>1</td>\n",
       "      <td>pneu_comp</td>\n",
       "      <td>Lung Opacity</td>\n",
       "      <td>../input/pneumonia-comp-proc-images/base_dir/p...</td>\n",
       "      <td>0.0</td>\n",
       "      <td>{'pred_scores': [0.99972314, 0.9323709, 0.8977...</td>\n",
       "    </tr>\n",
       "  </tbody>\n",
       "</table>\n",
       "</div>"
      ],
      "text/plain": [
       "                                      fname  image_height  image_width  \\\n",
       "0  00704310-78a8-4b38-8475-49f4573b2dbb.png          1024         1024   \n",
       "1  010ccb9f-6d46-4380-af11-84f87397a1b8.png          1024         1024   \n",
       "2  012a5620-d082-4bb8-9b3b-e72d8938000c.png          1024         1024   \n",
       "3  01a7353d-25bb-4ff8-916b-f50dd541dccf.png          1024         1024   \n",
       "4  01cad8d0-45cd-4603-b099-94055d322310.png          1024         1024   \n",
       "\n",
       "                                                bbox  target data_source  \\\n",
       "0  {'xmin': 323, 'ymin': 577, 'width': 160, 'heig...       1   pneu_comp   \n",
       "1  {'xmin': 652, 'ymin': 437, 'width': 161, 'heig...       1   pneu_comp   \n",
       "2  {'xmin': 133, 'ymin': 613, 'width': 275, 'heig...       1   pneu_comp   \n",
       "3  {'xmin': 214, 'ymin': 582, 'width': 239, 'heig...       1   pneu_comp   \n",
       "4  {'xmin': 218, 'ymin': 667, 'width': 258, 'heig...       1   pneu_comp   \n",
       "\n",
       "          label                                               path  fold  \\\n",
       "0  Lung Opacity  ../input/pneumonia-comp-proc-images/base_dir/p...   0.0   \n",
       "1  Lung Opacity  ../input/pneumonia-comp-proc-images/base_dir/p...   0.0   \n",
       "2  Lung Opacity  ../input/pneumonia-comp-proc-images/base_dir/p...   0.0   \n",
       "3  Lung Opacity  ../input/pneumonia-comp-proc-images/base_dir/p...   0.0   \n",
       "4  Lung Opacity  ../input/pneumonia-comp-proc-images/base_dir/p...   0.0   \n",
       "\n",
       "                                               preds  \n",
       "0  {'pred_scores': [0.9999553, 0.89496076, 0.8760...  \n",
       "1  {'pred_scores': [0.99996495, 0.9460011, 0.8614...  \n",
       "2  {'pred_scores': [0.99989974, 0.95544237, 0.896...  \n",
       "3  {'pred_scores': [0.99995875, 0.871344, 0.83093...  \n",
       "4  {'pred_scores': [0.99972314, 0.9323709, 0.8977...  "
      ]
     },
     "execution_count": 25,
     "metadata": {},
     "output_type": "execute_result"
    }
   ],
   "source": [
    "# Define the device\n",
    "device = torch.device('cuda') if torch.cuda.is_available() else torch.device('cpu')\n",
    "\n",
    "df_unq = df_val.drop_duplicates('fname')\n",
    "df_unq = df_unq.reset_index(drop=True)\n",
    "\n",
    "fin_pred_list = []\n",
    "\n",
    "for i in tqdm(range(0, len(df_unq)), total=len(df_unq)):\n",
    "\n",
    "    # Load the image\n",
    "    path = df_unq.loc[i, 'path']\n",
    "    #path = images_path + fname\n",
    "    image = Image.open(path).convert(\"L\") #####\n",
    "    \n",
    "    \n",
    "    # Pad the image to a square\n",
    "    \n",
    "    # Convert from PIL to numpy\n",
    "    image = np.array(image)\n",
    "    # Pad to square\n",
    "    image = pad_image_to_square(image)\n",
    "    # Convert back to a PIL image\n",
    "    image = Image.fromarray(np.uint8(image))\n",
    "    \n",
    "\n",
    "    # Transform the image to a torch tensor.\n",
    "    # Note that this 'transform' comes from torchvision.\n",
    "    # It's not the same as the one used in the dataloader.\n",
    "    # The imports above are important.\n",
    "    my_transform = T.Compose([T.ToTensor()])\n",
    "    image = my_transform(image)\n",
    "\n",
    "\n",
    "    # Send the image to the device\n",
    "    image = image.to(device)\n",
    "\n",
    "    # Load the trained model\n",
    "    path_model = model_path_0\n",
    "    model = torch.load(path_model, map_location=torch.device('cpu'))\n",
    "    #model = torch.load(path_model)\n",
    "\n",
    "    # Put the model in eval model\n",
    "    model.eval()\n",
    "\n",
    "    # Send the model to the device\n",
    "    model.to(device)\n",
    "\n",
    "    # Predict on the image\n",
    "    pred = model([image])\n",
    "\n",
    "    pred_dict = process_fasterrcnn_preds(pred, THRESHOLD)\n",
    "    \n",
    "    fin_pred_list.append(pred_dict)\n",
    "    \n",
    "    \n",
    "# Add the preds to df_unq\n",
    "df_unq['preds'] = fin_pred_list\n",
    "\n",
    "df_unq.head()"
   ]
  },
  {
   "cell_type": "markdown",
   "id": "3abe607e",
   "metadata": {
    "papermill": {
     "duration": 0.352582,
     "end_time": "2023-04-01T09:06:18.243271",
     "exception": false,
     "start_time": "2023-04-01T09:06:17.890689",
     "status": "completed"
    },
    "tags": []
   },
   "source": [
    "## Create the binary preds"
   ]
  },
  {
   "cell_type": "code",
   "execution_count": 26,
   "id": "711d4e01",
   "metadata": {
    "execution": {
     "iopub.execute_input": "2023-04-01T09:06:18.939874Z",
     "iopub.status.busy": "2023-04-01T09:06:18.939480Z",
     "iopub.status.idle": "2023-04-01T09:06:18.959065Z",
     "shell.execute_reply": "2023-04-01T09:06:18.958037Z"
    },
    "papermill": {
     "duration": 0.327582,
     "end_time": "2023-04-01T09:06:18.961155",
     "exception": false,
     "start_time": "2023-04-01T09:06:18.633573",
     "status": "completed"
    },
    "tags": []
   },
   "outputs": [],
   "source": [
    "# Get the pred target\n",
    "\n",
    "# Note: During training the normal images were assigned class 2. That's\n",
    "# why the model predicts class 2 for normal images.\n",
    "# Here we will assign class 0 to normal images. This will allow us to\n",
    "# compare the preds with the target column. The target column has classes 0 and 1.\n",
    "\n",
    "# Here we will also remove class 3 preds. Class 3 refers to the lung bboxes.\n",
    "\n",
    "def get_binary_pred(x):\n",
    "    \n",
    "    \n",
    "    #x = ast.literal_eval(x)\n",
    "    orig_pred_labels_list = x['pred_labels']\n",
    "    \n",
    "    assert type(orig_pred_labels_list) == list\n",
    "    \n",
    "    # Remove 3 from orig_pred_labels_list.\n",
    "    # Target 3 is the lungs bbox\n",
    "    pred_labels_list = []\n",
    "    \n",
    "    for item in orig_pred_labels_list:\n",
    "        if item != 3:\n",
    "            pred_labels_list.append(item)\n",
    "            \n",
    "    \n",
    "    # If no labels were predicted then\n",
    "    # the image is normal i.e. class 2.\n",
    "    if len(pred_labels_list) == 0:\n",
    "        return 0 # change class 2 to class 0\n",
    "    \n",
    "    # If the model predicted only one bbox\n",
    "    elif len(pred_labels_list) == 1:\n",
    "        \n",
    "        # If the predicted label was class 2\n",
    "        if pred_labels_list[0] == 2:\n",
    "            return 0 # change class 2 to class 0\n",
    "        else:\n",
    "            return 1\n",
    "        \n",
    "    # The model predicted opacity bboxes.\n",
    "    # Note: If a class 2 bbox was predicted in addition to\n",
    "    # class 1 bboxes, we must not draw the class 2 bbox\n",
    "    # on the image when showing the user the predictions.\n",
    "    else:\n",
    "        return 1\n",
    "    \n",
    "df_unq['binary_pred'] = df_unq['preds'].apply(get_binary_pred)\n",
    "\n",
    "#df_unq.head()"
   ]
  },
  {
   "cell_type": "code",
   "execution_count": 27,
   "id": "99e96545",
   "metadata": {
    "execution": {
     "iopub.execute_input": "2023-04-01T09:06:19.484533Z",
     "iopub.status.busy": "2023-04-01T09:06:19.484163Z",
     "iopub.status.idle": "2023-04-01T09:06:19.500257Z",
     "shell.execute_reply": "2023-04-01T09:06:19.499252Z"
    },
    "papermill": {
     "duration": 0.278543,
     "end_time": "2023-04-01T09:06:19.502422",
     "exception": false,
     "start_time": "2023-04-01T09:06:19.223879",
     "status": "completed"
    },
    "tags": []
   },
   "outputs": [
    {
     "data": {
      "text/html": [
       "<div>\n",
       "<style scoped>\n",
       "    .dataframe tbody tr th:only-of-type {\n",
       "        vertical-align: middle;\n",
       "    }\n",
       "\n",
       "    .dataframe tbody tr th {\n",
       "        vertical-align: top;\n",
       "    }\n",
       "\n",
       "    .dataframe thead th {\n",
       "        text-align: right;\n",
       "    }\n",
       "</style>\n",
       "<table border=\"1\" class=\"dataframe\">\n",
       "  <thead>\n",
       "    <tr style=\"text-align: right;\">\n",
       "      <th></th>\n",
       "      <th>fname</th>\n",
       "      <th>image_height</th>\n",
       "      <th>image_width</th>\n",
       "      <th>bbox</th>\n",
       "      <th>target</th>\n",
       "      <th>data_source</th>\n",
       "      <th>label</th>\n",
       "      <th>path</th>\n",
       "      <th>fold</th>\n",
       "      <th>preds</th>\n",
       "      <th>binary_pred</th>\n",
       "      <th>nan</th>\n",
       "    </tr>\n",
       "  </thead>\n",
       "  <tbody>\n",
       "  </tbody>\n",
       "</table>\n",
       "</div>"
      ],
      "text/plain": [
       "Empty DataFrame\n",
       "Columns: [fname, image_height, image_width, bbox, target, data_source, label, path, fold, preds, binary_pred, nan]\n",
       "Index: []"
      ]
     },
     "execution_count": 27,
     "metadata": {},
     "output_type": "execute_result"
    }
   ],
   "source": [
    "# Check for NaN values\n",
    "\n",
    "nan_list = list(df_unq['binary_pred'].isnull())\n",
    "\n",
    "df_unq['nan'] = nan_list\n",
    "\n",
    "df_unq[df_unq['nan'] == True]"
   ]
  },
  {
   "cell_type": "code",
   "execution_count": 28,
   "id": "13ce180f",
   "metadata": {
    "execution": {
     "iopub.execute_input": "2023-04-01T09:06:20.032325Z",
     "iopub.status.busy": "2023-04-01T09:06:20.031961Z",
     "iopub.status.idle": "2023-04-01T09:06:20.040430Z",
     "shell.execute_reply": "2023-04-01T09:06:20.039435Z"
    },
    "papermill": {
     "duration": 0.271508,
     "end_time": "2023-04-01T09:06:20.042507",
     "exception": false,
     "start_time": "2023-04-01T09:06:19.770999",
     "status": "completed"
    },
    "tags": []
   },
   "outputs": [
    {
     "data": {
      "text/plain": [
       "0    2687\n",
       "1    2201\n",
       "Name: target, dtype: int64"
      ]
     },
     "execution_count": 28,
     "metadata": {},
     "output_type": "execute_result"
    }
   ],
   "source": [
    "df_unq['target'].value_counts()"
   ]
  },
  {
   "cell_type": "code",
   "execution_count": 29,
   "id": "ce202087",
   "metadata": {
    "execution": {
     "iopub.execute_input": "2023-04-01T09:06:20.566965Z",
     "iopub.status.busy": "2023-04-01T09:06:20.566613Z",
     "iopub.status.idle": "2023-04-01T09:06:20.574276Z",
     "shell.execute_reply": "2023-04-01T09:06:20.573360Z"
    },
    "papermill": {
     "duration": 0.27031,
     "end_time": "2023-04-01T09:06:20.576316",
     "exception": false,
     "start_time": "2023-04-01T09:06:20.306006",
     "status": "completed"
    },
    "tags": []
   },
   "outputs": [
    {
     "data": {
      "text/plain": [
       "1    2513\n",
       "0    2375\n",
       "Name: binary_pred, dtype: int64"
      ]
     },
     "execution_count": 29,
     "metadata": {},
     "output_type": "execute_result"
    }
   ],
   "source": [
    "df_unq['binary_pred'].value_counts()"
   ]
  },
  {
   "cell_type": "markdown",
   "id": "9fb701f2",
   "metadata": {
    "papermill": {
     "duration": 0.261061,
     "end_time": "2023-04-01T09:06:21.148129",
     "exception": false,
     "start_time": "2023-04-01T09:06:20.887068",
     "status": "completed"
    },
    "tags": []
   },
   "source": [
    "## Conf Matrix and Classif Report"
   ]
  },
  {
   "cell_type": "code",
   "execution_count": 30,
   "id": "2b560d1a",
   "metadata": {
    "execution": {
     "iopub.execute_input": "2023-04-01T09:06:21.665079Z",
     "iopub.status.busy": "2023-04-01T09:06:21.664734Z",
     "iopub.status.idle": "2023-04-01T09:06:22.482742Z",
     "shell.execute_reply": "2023-04-01T09:06:22.481580Z"
    },
    "papermill": {
     "duration": 1.079321,
     "end_time": "2023-04-01T09:06:22.485378",
     "exception": false,
     "start_time": "2023-04-01T09:06:21.406057",
     "status": "completed"
    },
    "tags": []
   },
   "outputs": [
    {
     "name": "stdout",
     "output_type": "stream",
     "text": [
      "\n",
      "[[2276  411]\n",
      " [  99 2102]]\n",
      "['normal', 'opacity']\n"
     ]
    }
   ],
   "source": [
    "from sklearn.metrics import confusion_matrix\n",
    "import itertools\n",
    "    \n",
    "# targets\n",
    "y_true = list(df_unq['target'])\n",
    "\n",
    "# get the preds as integers\n",
    "y_pred = list(df_unq['binary_pred'])\n",
    "\n",
    "# argmax returns the index of the max value in each row.\n",
    "cm = confusion_matrix(y_true, y_pred)\n",
    "\n",
    "# Display the confusion matrix.\n",
    "print()\n",
    "print(cm)\n",
    "print(CLASS_LIST)"
   ]
  },
  {
   "cell_type": "code",
   "execution_count": 31,
   "id": "ac5a409f",
   "metadata": {
    "execution": {
     "iopub.execute_input": "2023-04-01T09:06:23.047074Z",
     "iopub.status.busy": "2023-04-01T09:06:23.046458Z",
     "iopub.status.idle": "2023-04-01T09:06:23.334373Z",
     "shell.execute_reply": "2023-04-01T09:06:23.333425Z"
    },
    "papermill": {
     "duration": 0.549513,
     "end_time": "2023-04-01T09:06:23.336486",
     "exception": false,
     "start_time": "2023-04-01T09:06:22.786973",
     "status": "completed"
    },
    "tags": []
   },
   "outputs": [
    {
     "name": "stdout",
     "output_type": "stream",
     "text": [
      "Confusion matrix, without normalization\n",
      "[[2276  411]\n",
      " [  99 2102]]\n"
     ]
    },
    {
     "data": {
      "image/png": "[encoded data removed]",
      "text/plain": [
       "<Figure size 640x480 with 2 Axes>"
      ]
     },
     "metadata": {},
     "output_type": "display_data"
    }
   ],
   "source": [
    "cm_plot_labels = CLASS_LIST\n",
    "\n",
    "# Set the size of the plot.\n",
    "#plt.figure(figsize=(10,7))\n",
    "\n",
    "# Set the size of the text\n",
    "text_size=12\n",
    "\n",
    "plot_confusion_matrix(cm, cm_plot_labels, title='Confusion Matrix', text_size=text_size)"
   ]
  },
  {
   "cell_type": "code",
   "execution_count": 32,
   "id": "2479fe4e",
   "metadata": {
    "execution": {
     "iopub.execute_input": "2023-04-01T09:06:23.855945Z",
     "iopub.status.busy": "2023-04-01T09:06:23.855596Z",
     "iopub.status.idle": "2023-04-01T09:06:23.870784Z",
     "shell.execute_reply": "2023-04-01T09:06:23.869545Z"
    },
    "papermill": {
     "duration": 0.277075,
     "end_time": "2023-04-01T09:06:23.873263",
     "exception": false,
     "start_time": "2023-04-01T09:06:23.596188",
     "status": "completed"
    },
    "tags": []
   },
   "outputs": [
    {
     "name": "stdout",
     "output_type": "stream",
     "text": [
      "\n",
      "              precision    recall  f1-score   support\n",
      "\n",
      "      normal       0.96      0.85      0.90      2687\n",
      "     opacity       0.84      0.96      0.89      2201\n",
      "\n",
      "    accuracy                           0.90      4888\n",
      "   macro avg       0.90      0.90      0.90      4888\n",
      "weighted avg       0.90      0.90      0.90      4888\n",
      "\n"
     ]
    }
   ],
   "source": [
    "from sklearn.metrics import classification_report\n",
    "    \n",
    "report = classification_report(y_true, y_pred, target_names=cm_plot_labels)\n",
    "\n",
    "print()\n",
    "print(report)"
   ]
  },
  {
   "cell_type": "code",
   "execution_count": null,
   "id": "fb5bf0bd",
   "metadata": {
    "papermill": {
     "duration": 0.257159,
     "end_time": "2023-04-01T09:06:24.391220",
     "exception": false,
     "start_time": "2023-04-01T09:06:24.134061",
     "status": "completed"
    },
    "tags": []
   },
   "outputs": [],
   "source": []
  },
  {
   "cell_type": "code",
   "execution_count": 33,
   "id": "5ae3cdc2",
   "metadata": {
    "execution": {
     "iopub.execute_input": "2023-04-01T09:06:24.951599Z",
     "iopub.status.busy": "2023-04-01T09:06:24.951230Z",
     "iopub.status.idle": "2023-04-01T09:06:28.134760Z",
     "shell.execute_reply": "2023-04-01T09:06:28.133559Z"
    },
    "papermill": {
     "duration": 3.444111,
     "end_time": "2023-04-01T09:06:28.137581",
     "exception": false,
     "start_time": "2023-04-01T09:06:24.693470",
     "status": "completed"
    },
    "tags": []
   },
   "outputs": [
    {
     "name": "stdout",
     "output_type": "stream",
     "text": [
      "/bin/bash: /opt/conda/lib/libtinfo.so.6: no version information available (required by /bin/bash)\r\n"
     ]
    }
   ],
   "source": [
    "# Create a requirements.txt file\n",
    "# This is a list of all packages and their versions that were \n",
    "# used to create this solution.\n",
    "\n",
    "!pip freeze > requirements.txt"
   ]
  },
  {
   "cell_type": "code",
   "execution_count": 34,
   "id": "06c76c98",
   "metadata": {
    "execution": {
     "iopub.execute_input": "2023-04-01T09:06:28.658307Z",
     "iopub.status.busy": "2023-04-01T09:06:28.657932Z",
     "iopub.status.idle": "2023-04-01T09:06:29.752939Z",
     "shell.execute_reply": "2023-04-01T09:06:29.751725Z"
    },
    "papermill": {
     "duration": 1.357664,
     "end_time": "2023-04-01T09:06:29.755631",
     "exception": false,
     "start_time": "2023-04-01T09:06:28.397967",
     "status": "completed"
    },
    "tags": []
   },
   "outputs": [
    {
     "name": "stdout",
     "output_type": "stream",
     "text": [
      "/bin/bash: /opt/conda/lib/libtinfo.so.6: no version information available (required by /bin/bash)\r\n",
      "__notebook__.ipynb  requirements.txt\r\n"
     ]
    }
   ],
   "source": [
    "!ls"
   ]
  },
  {
   "cell_type": "code",
   "execution_count": null,
   "id": "c6aca6bd",
   "metadata": {
    "papermill": {
     "duration": 0.259151,
     "end_time": "2023-04-01T09:06:30.273340",
     "exception": false,
     "start_time": "2023-04-01T09:06:30.014189",
     "status": "completed"
    },
    "tags": []
   },
   "outputs": [],
   "source": []
  }
 ],
 "metadata": {
  "kernelspec": {
   "display_name": "Python 3",
   "language": "python",
   "name": "python3"
  },
  "language_info": {
   "codemirror_mode": {
    "name": "ipython",
    "version": 3
   },
   "file_extension": ".py",
   "mimetype": "text/x-python",
   "name": "python",
   "nbconvert_exporter": "python",
   "pygments_lexer": "ipython3",
   "version": "3.7.12"
  },
  "papermill": {
   "default_parameters": {},
   "duration": 1443.590806,
   "end_time": "2023-04-01T09:06:32.198774",
   "environment_variables": {},
   "exception": null,
   "input_path": "__notebook__.ipynb",
   "output_path": "__notebook__.ipynb",
   "parameters": {},
   "start_time": "2023-04-01T08:42:28.607968",
   "version": "2.3.4"
  }
 },
 "nbformat": 4,
 "nbformat_minor": 5
}
